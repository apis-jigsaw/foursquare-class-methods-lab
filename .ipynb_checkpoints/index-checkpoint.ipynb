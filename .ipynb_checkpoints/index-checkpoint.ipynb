{
 "cells": [
  {
   "cell_type": "markdown",
   "metadata": {},
   "source": [
    "# ETL with Databases"
   ]
  },
  {
   "cell_type": "markdown",
   "metadata": {},
   "source": [
    "### Introduction"
   ]
  },
  {
   "cell_type": "markdown",
   "metadata": {},
   "source": [
    "In this lesson, we'll update our foursquare lab to load data into the database.  Doing so will involve both adding new methods to make requests to the api, as well as connecting our API to a database."
   ]
  },
  {
   "cell_type": "markdown",
   "metadata": {},
   "source": [
    "### Reviewing our code"
   ]
  },
  {
   "cell_type": "markdown",
   "metadata": {},
   "source": [
    "Before we get started, it's probably a good idea to review our existing codebase.  Let's even add a new  function called `request_venue` that takes a venue id, and returns that venue.  Use [the documentation](https://developer.foursquare.com/docs/api-reference/venues/details/) on venue details to see how to make the request."
   ]
  },
  {
   "cell_type": "markdown",
   "metadata": {},
   "source": [
    "> Try out the `request_venue` function with a venue of the following id:"
   ]
  },
  {
   "cell_type": "code",
   "execution_count": 1,
   "metadata": {},
   "outputs": [],
   "source": [
    "venue_id = '5b2932a0f5e9d70039787cf2'"
   ]
  },
  {
   "cell_type": "markdown",
   "metadata": {},
   "source": [
    "We can see that by using the venue details, there is a good amount of information we are able to store.  Let's create tables to store the following information."
   ]
  },
  {
   "cell_type": "markdown",
   "metadata": {},
   "source": [
    "### Creating Tables"
   ]
  },
  {
   "cell_type": "markdown",
   "metadata": {},
   "source": [
    "venue\n",
    "* foursquare_id\n",
    "* name\n",
    "* price\n",
    "* rating\n",
    "* likes \n",
    "* menu_url"
   ]
  },
  {
   "cell_type": "markdown",
   "metadata": {},
   "source": [
    "> * Index on price\n",
    "> * Foursquare id unique"
   ]
  },
  {
   "cell_type": "markdown",
   "metadata": {},
   "source": [
    "venue_location\n",
    "* longitude\n",
    "* latitude\n",
    "* address\n",
    "* postal_code\n",
    "* city\n",
    "* state\n",
    "* venue_id"
   ]
  },
  {
   "cell_type": "markdown",
   "metadata": {},
   "source": [
    "> Index on city, state, postal code"
   ]
  },
  {
   "cell_type": "markdown",
   "metadata": {},
   "source": [
    "category\n",
    "\n",
    "* name\n",
    "> * Unique\n",
    "\n",
    "venue_category\n",
    "\n",
    "* category_id\n",
    "* venue_id\n",
    "> * Not null"
   ]
  },
  {
   "cell_type": "markdown",
   "metadata": {},
   "source": [
    "### Creating Venues"
   ]
  },
  {
   "cell_type": "markdown",
   "metadata": {},
   "source": [
    "For each venue, we must do the following:\n",
    "* create a venue\n",
    "* create a venue location\n",
    "* populate category and venue_categories"
   ]
  },
  {
   "cell_type": "markdown",
   "metadata": {},
   "source": [
    "### Building our Code"
   ]
  },
  {
   "cell_type": "markdown",
   "metadata": {},
   "source": [
    "Now, we purposely described these tasks at a high level to get our overview.  Now it's time to move through these tasks.  First is the step to create a new venue.  To do so, we should move through the following steps.\n",
    "\n",
    "A. Create a new venue\n",
    "\n",
    "For each venue, we should add a new record to our venue table.  This involves the following:\n",
    "\n",
    "1. `select_venue_attributes` from the api\n",
    "2. `create_venue()`: adds venue to database\n",
    "3. `find_or_create_venue()`: adds venue to the database if it does not already exist"
   ]
  },
  {
   "cell_type": "markdown",
   "metadata": {},
   "source": [
    "B. Create `venue_location`\n",
    "\n",
    "Also for each venue, we should store the location, and the correct foreign key.  This would involve:\n",
    "\n",
    "* get last venue id from venues\n",
    "* add new `venue_location`, with `venue_id`"
   ]
  },
  {
   "cell_type": "markdown",
   "metadata": {},
   "source": [
    "C. Category information\n",
    "\n",
    "Then for each venue, we also need to add in the category information.  This means we first need to find or create a new row in the category table for each category.  And we need then need to create the venue_category row.  So let's work on two functions to do so."
   ]
  },
  {
   "cell_type": "markdown",
   "metadata": {},
   "source": [
    "* `find_or_create_category`\n",
    "* `create_venue_category`"
   ]
  },
  {
   "cell_type": "markdown",
   "metadata": {},
   "source": [
    "Finally, write a function called `create_venues`, that will take a list of foursquare venue_ids, and populate the database with the above functions."
   ]
  },
  {
   "cell_type": "markdown",
   "metadata": {},
   "source": [
    "### Resources\n",
    "\n",
    "[Pytest](https://xvrdm.github.io/2017/07/03/testing-flask-sqlalchemy-database-with-pytest/)"
   ]
  },
  {
   "cell_type": "markdown",
   "metadata": {},
   "source": [
    "[Pytest fixtures](https://docs.pytest.org/en/stable/fixture.html)"
   ]
  }
 ],
 "metadata": {
  "kernelspec": {
   "display_name": "Python 3",
   "language": "python",
   "name": "python3"
  },
  "language_info": {
   "codemirror_mode": {
    "name": "ipython",
    "version": 3
   },
   "file_extension": ".py",
   "mimetype": "text/x-python",
   "name": "python",
   "nbconvert_exporter": "python",
   "pygments_lexer": "ipython3",
   "version": "3.8.3"
  }
 },
 "nbformat": 4,
 "nbformat_minor": 4
}
