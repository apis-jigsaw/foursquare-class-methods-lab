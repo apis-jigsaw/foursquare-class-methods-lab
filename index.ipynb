{
 "cells": [
  {
   "cell_type": "markdown",
   "metadata": {},
   "source": [
    "# ETL with Databases"
   ]
  },
  {
   "cell_type": "markdown",
   "metadata": {},
   "source": [
    "### Introduction"
   ]
  },
  {
   "cell_type": "markdown",
   "metadata": {},
   "source": [
    "In this lab, we'll practice writing class methods for an application designed to manage data from foursquare.  A number of the functions that we write will not only be useful for this current applications, but our codebases going forward.  Let's get started."
   ]
  },
  {
   "cell_type": "markdown",
   "metadata": {},
   "source": [
    "### Setting Up"
   ]
  },
  {
   "cell_type": "markdown",
   "metadata": {},
   "source": [
    "Before starting up with our code, we'll need to create a database called `test_foursquare` and then run our `create_tables.sql` file in our migrations.  \n",
    "\n",
    "> You may need to delete any existing test_foursquare database that already exists."
   ]
  },
  {
   "cell_type": "code",
   "execution_count": null,
   "metadata": {},
   "outputs": [],
   "source": []
  },
  {
   "cell_type": "markdown",
   "metadata": {},
   "source": [
    "Now, let's think through what's involved with these tasks.  The first is the step to create a new venue.  To do so, we should move through the following steps.\n",
    "\n",
    "A. Create a new venue\n",
    "\n",
    "1. `select_venue_attributes` from the api\n",
    "2. `create_venue()`: adds venue to database\n",
    "3. `find_or_create_venue()`: adds venue to the database if it does not already exist"
   ]
  },
  {
   "cell_type": "markdown",
   "metadata": {},
   "source": [
    "B. Create a `venue_location`\n",
    "\n",
    "Also for each venue, we should store the location, and the correct foreign key.  This would involve:\n",
    "\n",
    "* find venue by foursquare_id\n",
    "* add new `venue_location`, with `venue_id`"
   ]
  },
  {
   "cell_type": "markdown",
   "metadata": {},
   "source": [
    "> This way when we store a `venue_location`, we have the location, and the related `venue_id`."
   ]
  },
  {
   "cell_type": "markdown",
   "metadata": {},
   "source": [
    "C. Category information\n",
    "\n",
    "Then for each venue, we also need to add in the category information.  This means we first need to\n",
    "\n",
    "* find or create a new row in the category table for each category.  \n",
    "* And we need then need to create the venue_category row.  "
   ]
  },
  {
   "cell_type": "markdown",
   "metadata": {},
   "source": [
    "### Building our Code"
   ]
  },
  {
   "cell_type": "markdown",
   "metadata": {},
   "source": [
    "* `find_or_create_category`\n",
    "* `create_venue_category`"
   ]
  },
  {
   "cell_type": "markdown",
   "metadata": {},
   "source": [
    "### Resources\n",
    "\n",
    "[Pytest](https://xvrdm.github.io/2017/07/03/testing-flask-sqlalchemy-database-with-pytest/)"
   ]
  },
  {
   "cell_type": "markdown",
   "metadata": {},
   "source": [
    "[Pytest fixtures](https://docs.pytest.org/en/stable/fixture.html)"
   ]
  }
 ],
 "metadata": {
  "kernelspec": {
   "display_name": "Python 3",
   "language": "python",
   "name": "python3"
  },
  "language_info": {
   "codemirror_mode": {
    "name": "ipython",
    "version": 3
   },
   "file_extension": ".py",
   "mimetype": "text/x-python",
   "name": "python",
   "nbconvert_exporter": "python",
   "pygments_lexer": "ipython3",
   "version": "3.8.3"
  }
 },
 "nbformat": 4,
 "nbformat_minor": 4
}
